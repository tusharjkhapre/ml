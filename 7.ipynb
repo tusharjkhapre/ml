{
  "nbformat": 4,
  "nbformat_minor": 0,
  "metadata": {
    "colab": {
      "provenance": []
    },
    "kernelspec": {
      "name": "python3",
      "display_name": "Python 3"
    },
    "language_info": {
      "name": "python"
    }
  },
  "cells": [
    {
      "cell_type": "code",
      "source": [
        "import numpy as np\n",
        "\n",
        "# Define the input data (truth table for OR gate)\n",
        "X = np.array([[0, 0], [0, 1], [1, 0], [1, 1]])\n",
        "\n",
        "# Define the target labels\n",
        "y = np.array([0, 1, 1, 1])\n",
        "\n",
        "# Initialize weights and bias\n",
        "weights = np.array([1, 1])  # Two weights for two inputs\n",
        "bias = -1  # Integer bias value\n",
        "\n",
        "# Define the MP neuron function\n",
        "def mp_neuron(inputs):\n",
        "    weighted_sum = np.dot(inputs, weights) + bias\n",
        "    output = 1 if weighted_sum >= 0 else 0\n",
        "    return output\n",
        "\n",
        "# Test the MP neuron model\n",
        "test_data = [[0, 0], [0, 1], [1, 0], [1, 1]]\n",
        "\n",
        "print(\"Input  |  Predicted Output\")\n",
        "print(\"--------------------------\")\n",
        "for inputs in test_data:\n",
        "    prediction = mp_neuron(inputs)\n",
        "    print(f\"{inputs}   |        {prediction}\")\n"
      ],
      "metadata": {
        "id": "VnuFipW2fCow",
        "outputId": "5d171f66-eeb3-4f5d-ddd8-592294a72654",
        "colab": {
          "base_uri": "https://localhost:8080/"
        }
      },
      "execution_count": 2,
      "outputs": [
        {
          "output_type": "stream",
          "name": "stdout",
          "text": [
            "Input  |  Predicted Output\n",
            "--------------------------\n",
            "[0, 0]   |        0\n",
            "[0, 1]   |        1\n",
            "[1, 0]   |        1\n",
            "[1, 1]   |        1\n"
          ]
        }
      ]
    }
  ]
}