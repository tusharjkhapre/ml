{
  "nbformat": 4,
  "nbformat_minor": 0,
  "metadata": {
    "colab": {
      "provenance": []
    },
    "kernelspec": {
      "name": "python3",
      "display_name": "Python 3"
    },
    "language_info": {
      "name": "python"
    }
  },
  "cells": [
    {
      "cell_type": "markdown",
      "source": [],
      "metadata": {
        "id": "tYQdTeG1Z4HJ"
      }
    },
    {
      "cell_type": "code",
      "source": [
        "from sklearn.datasets import make_classification\n",
        "from sklearn.linear_model import LogisticRegression\n",
        "\n",
        "X, y = make_classification(n_samples=1000, n_features=20)\n",
        "model = LogisticRegression().fit(X, y)\n",
        "accuracy = model.score(X, y)\n",
        "print(\"Scikit-learn Accuracy:\", accuracy)\n"
      ],
      "metadata": {
        "colab": {
          "base_uri": "https://localhost:8080/"
        },
        "id": "mO4WASU0Z_Fu",
        "outputId": "e39a0561-c947-4537-bece-c497f701716a"
      },
      "execution_count": 6,
      "outputs": [
        {
          "output_type": "stream",
          "name": "stdout",
          "text": [
            "Scikit-learn Accuracy: 0.946\n"
          ]
        }
      ]
    },
    {
      "cell_type": "code",
      "source": [
        "import tensorflow as tf\n",
        "\n",
        "X = tf.random.normal(shape=(1000, 20))\n",
        "y = tf.random.uniform(shape=(1000,), minval=0, maxval=2, dtype=tf.int32)\n",
        "\n",
        "model = tf.keras.Sequential([tf.keras.layers.Dense(1, activation='sigmoid')])\n",
        "model.compile(optimizer='adam', loss='binary_crossentropy', metrics=['accuracy'])\n",
        "accuracy = model.fit(X, y, epochs=10).history['accuracy'][-1]\n",
        "print(\"TensorFlow Accuracy:\", accuracy)\n"
      ],
      "metadata": {
        "colab": {
          "base_uri": "https://localhost:8080/"
        },
        "id": "e_1Kc-mtaCdr",
        "outputId": "d5a3a06b-7290-4f62-fc26-d43732f3143f"
      },
      "execution_count": 7,
      "outputs": [
        {
          "output_type": "stream",
          "name": "stdout",
          "text": [
            "Epoch 1/10\n",
            "32/32 [==============================] - 1s 2ms/step - loss: 0.9228 - accuracy: 0.5020\n",
            "Epoch 2/10\n",
            "32/32 [==============================] - 0s 2ms/step - loss: 0.9026 - accuracy: 0.5010\n",
            "Epoch 3/10\n",
            "32/32 [==============================] - 0s 2ms/step - loss: 0.8846 - accuracy: 0.5010\n",
            "Epoch 4/10\n",
            "32/32 [==============================] - 0s 2ms/step - loss: 0.8682 - accuracy: 0.5020\n",
            "Epoch 5/10\n",
            "32/32 [==============================] - 0s 2ms/step - loss: 0.8525 - accuracy: 0.5040\n",
            "Epoch 6/10\n",
            "32/32 [==============================] - 0s 2ms/step - loss: 0.8376 - accuracy: 0.5090\n",
            "Epoch 7/10\n",
            "32/32 [==============================] - 0s 2ms/step - loss: 0.8243 - accuracy: 0.5060\n",
            "Epoch 8/10\n",
            "32/32 [==============================] - 0s 2ms/step - loss: 0.8113 - accuracy: 0.5080\n",
            "Epoch 9/10\n",
            "32/32 [==============================] - 0s 3ms/step - loss: 0.7991 - accuracy: 0.5030\n",
            "Epoch 10/10\n",
            "32/32 [==============================] - 0s 2ms/step - loss: 0.7882 - accuracy: 0.5050\n",
            "TensorFlow Accuracy: 0.5049999952316284\n"
          ]
        }
      ]
    },
    {
      "cell_type": "code",
      "source": [
        "import torch\n",
        "\n",
        "X = torch.randn(1000, 20)\n",
        "y = torch.randint(0, 2, (1000,))\n",
        "\n",
        "model = torch.nn.Linear(20, 1)\n",
        "criterion = torch.nn.BCEWithLogitsLoss()\n",
        "optimizer = torch.optim.Adam(model.parameters(), lr=0.001)\n",
        "for _ in range(10):\n",
        "    optimizer.zero_grad()\n",
        "    loss = criterion(model(X).squeeze(), y.float())\n",
        "    loss.backward()\n",
        "    optimizer.step()\n",
        "\n",
        "accuracy = ((model(X).squeeze().sigmoid() > 0.5) == y).float().mean().item()\n",
        "print(\"PyTorch Accuracy:\", accuracy)\n"
      ],
      "metadata": {
        "colab": {
          "base_uri": "https://localhost:8080/"
        },
        "id": "m3jTM7l8aGlE",
        "outputId": "7c9a527c-86c0-4461-f108-7ae41d0e20b4"
      },
      "execution_count": 8,
      "outputs": [
        {
          "output_type": "stream",
          "name": "stdout",
          "text": [
            "PyTorch Accuracy: 0.4779999852180481\n"
          ]
        }
      ]
    },
    {
      "cell_type": "code",
      "source": [
        "import numpy as np\n",
        "from keras.models import Sequential\n",
        "from keras.layers import Dense\n",
        "from keras.optimizers import Adam\n",
        "\n",
        "X = np.random.randn(1000, 20)\n",
        "y = np.random.randint(0, 2, 1000)\n",
        "\n",
        "model = Sequential([Dense(1, activation='sigmoid', input_shape=(20,))])\n",
        "model.compile(optimizer=Adam(), loss='binary_crossentropy', metrics=['accuracy'])\n",
        "accuracy = model.fit(X, y, epochs=10).history['accuracy'][-1]\n",
        "print(\"Keras Accuracy:\", accuracy)\n"
      ],
      "metadata": {
        "colab": {
          "base_uri": "https://localhost:8080/"
        },
        "id": "qAYDSK61aL_E",
        "outputId": "472f4170-0506-4a7a-d1be-9b6f04819a86"
      },
      "execution_count": 9,
      "outputs": [
        {
          "output_type": "stream",
          "name": "stdout",
          "text": [
            "Epoch 1/10\n",
            "32/32 [==============================] - 1s 2ms/step - loss: 0.8628 - accuracy: 0.5160\n",
            "Epoch 2/10\n",
            "32/32 [==============================] - 0s 2ms/step - loss: 0.8461 - accuracy: 0.5190\n",
            "Epoch 3/10\n",
            "32/32 [==============================] - 0s 2ms/step - loss: 0.8310 - accuracy: 0.5220\n",
            "Epoch 4/10\n",
            "32/32 [==============================] - 0s 2ms/step - loss: 0.8168 - accuracy: 0.5260\n",
            "Epoch 5/10\n",
            "32/32 [==============================] - 0s 2ms/step - loss: 0.8033 - accuracy: 0.5230\n",
            "Epoch 6/10\n",
            "32/32 [==============================] - 0s 2ms/step - loss: 0.7910 - accuracy: 0.5230\n",
            "Epoch 7/10\n",
            "32/32 [==============================] - 0s 2ms/step - loss: 0.7792 - accuracy: 0.5210\n",
            "Epoch 8/10\n",
            "32/32 [==============================] - 0s 2ms/step - loss: 0.7685 - accuracy: 0.5200\n",
            "Epoch 9/10\n",
            "32/32 [==============================] - 0s 2ms/step - loss: 0.7590 - accuracy: 0.5210\n",
            "Epoch 10/10\n",
            "32/32 [==============================] - 0s 2ms/step - loss: 0.7502 - accuracy: 0.5230\n",
            "Keras Accuracy: 0.5230000019073486\n"
          ]
        }
      ]
    },
    {
      "cell_type": "code",
      "source": [
        "import numpy as np\n",
        "from sklearn.linear_model import LogisticRegression\n",
        "\n",
        "X, y = np.random.randn(1000, 20), np.random.randint(0, 2, 1000)\n",
        "model = LogisticRegression().fit(X, y)\n",
        "accuracy = model.score(X, y)\n",
        "print(\"NumPy Accuracy:\", accuracy)\n"
      ],
      "metadata": {
        "colab": {
          "base_uri": "https://localhost:8080/"
        },
        "id": "6AK3RFYZaNcD",
        "outputId": "67593cad-fd47-4016-d294-058aeb9516df"
      },
      "execution_count": 10,
      "outputs": [
        {
          "output_type": "stream",
          "name": "stdout",
          "text": [
            "NumPy Accuracy: 0.56\n"
          ]
        }
      ]
    }
  ]
}