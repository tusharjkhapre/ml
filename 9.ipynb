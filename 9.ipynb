{
  "nbformat": 4,
  "nbformat_minor": 0,
  "metadata": {
    "colab": {
      "provenance": []
    },
    "kernelspec": {
      "name": "python3",
      "display_name": "Python 3"
    },
    "language_info": {
      "name": "python"
    }
  },
  "cells": [
    {
      "cell_type": "code",
      "execution_count": 1,
      "metadata": {
        "colab": {
          "base_uri": "https://localhost:8080/"
        },
        "id": "WVa53NZObxtQ",
        "outputId": "0a341030-dac9-4ce2-e76d-1512c6268817"
      },
      "outputs": [
        {
          "output_type": "stream",
          "name": "stdout",
          "text": [
            "Input  |  Predicted Output\n",
            "--------------------------\n",
            "[0, 0]   |        0\n",
            "[0, 1]   |        0\n",
            "[1, 0]   |        0\n",
            "[1, 1]   |        1\n"
          ]
        }
      ],
      "source": [
        "import numpy as np\n",
        "\n",
        "# Define the input data (truth table for AND gate)\n",
        "X = np.array([[0, 0], [0, 1], [1, 0], [1, 1]])\n",
        "\n",
        "# Define the target labels\n",
        "y = np.array([0, 0, 0, 1])\n",
        "\n",
        "# Initialize weights and bias\n",
        "np.random.seed(0)  # For reproducibility\n",
        "weights = np.random.rand(2)  # Two weights for two inputs\n",
        "bias = np.random.rand(1)  # Bias\n",
        "\n",
        "# Define the activation function (Step function)\n",
        "def step_function(x):\n",
        "    return 1 if x >= 0 else 0\n",
        "\n",
        "# Define the perceptron function\n",
        "def perceptron(inputs):\n",
        "    weighted_sum = np.dot(inputs, weights) + bias\n",
        "    output = step_function(weighted_sum)\n",
        "    return output\n",
        "\n",
        "# Train the perceptron\n",
        "epochs = 1000\n",
        "learning_rate = 0.1\n",
        "\n",
        "for epoch in range(epochs):\n",
        "    for i in range(len(X)):\n",
        "        inputs = X[i]\n",
        "        target = y[i]\n",
        "        prediction = perceptron(inputs)\n",
        "        error = target - prediction\n",
        "        weights += learning_rate * error * inputs\n",
        "        bias += learning_rate * error\n",
        "\n",
        "# Test the trained perceptron\n",
        "test_data = [[0, 0], [0, 1], [1, 0], [1, 1]]\n",
        "\n",
        "print(\"Input  |  Predicted Output\")\n",
        "print(\"--------------------------\")\n",
        "for inputs in test_data:\n",
        "    prediction = perceptron(inputs)\n",
        "    print(f\"{inputs}   |        {prediction}\")\n"
      ]
    }
  ]
}