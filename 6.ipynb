{
  "nbformat": 4,
  "nbformat_minor": 0,
  "metadata": {
    "colab": {
      "provenance": []
    },
    "kernelspec": {
      "name": "python3",
      "display_name": "Python 3"
    },
    "language_info": {
      "name": "python"
    }
  },
  "cells": [
    {
      "cell_type": "code",
      "execution_count": null,
      "metadata": {
        "id": "8UfGRtSDRrbM"
      },
      "outputs": [],
      "source": [
        "import matplotlib.pyplot as plt\n",
        "from numpy.random import normal\n",
        "sample = normal(size=2000)\n",
        "plt.hist(sample, bins=50)\n",
        "plt.show()\n",
        "\n",
        "from numpy import hstack\n",
        "from numpy.random import normal\n",
        "import matplotlib.pyplot as plt\n",
        "sample1 = normal(loc=20, scale=5 , size=4000)\n",
        "sample2 = normal(loc=40, scale=5 , size=8000)\n",
        "sample = hstack((sample1,sample2))\n",
        "plt.hist(sample, bins=50, density=True)\n",
        "plt.show()\n",
        "\n",
        "\n",
        "from numpy import hstack\n",
        "from numpy.random import normal\n",
        "from sklearn.mixture import GaussianMixture\n",
        "\n",
        "\n",
        "sample1 = normal(loc=20, scale=5, size=4000)\n",
        "sample2 = normal(loc=40, scale=5, size=8000)\n",
        "sample = hstack((sample1, sample2))\n",
        "\n",
        "\n",
        "sample = sample.reshape((len(sample), 1))\n",
        "\n",
        "\n",
        "model = GaussianMixture(n_components=2, init_params='random')\n",
        "model.fit(sample)\n",
        "\n",
        "\n",
        "yhat = model.predict(sample)\n",
        "\n",
        "\n",
        "print(yhat[:80])\n",
        "\n",
        "print(yhat[:80])\n",
        "\n",
        "print(yhat[-80:])\n",
        ""
      ]
    }
  ]
}